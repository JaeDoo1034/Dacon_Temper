{
 "cells": [
  {
   "cell_type": "code",
   "execution_count": 190,
   "metadata": {},
   "outputs": [],
   "source": [
    "import pandas as pd\n",
    "import numpy as np\n",
    "import matplotlib.pyplot as plt\n",
    "%matplotlib inline\n",
    "\n",
    "import tensorflow as tf\n",
    "from tqdm import tqdm_notebook"
   ]
  },
  {
   "cell_type": "markdown",
   "metadata": {},
   "source": [
    "1일 = 24시간 = 1440분 = 144 행\n",
    "3일 = 72시간 = 4320분 = 432 행\n",
    "30일 = 720시간 = 43200분 = 4320 행\n",
    "train = 33일 = 792시간 = 47520분 = 4752 행 \n",
    "입니다."
   ]
  },
  {
   "cell_type": "code",
   "execution_count": 158,
   "metadata": {},
   "outputs": [],
   "source": [
    "train = pd.read_csv('data/train.csv',index_col = 'id')\n",
    "test = pd.read_csv('data/test.csv',index_col = 'id')"
   ]
  },
  {
   "cell_type": "code",
   "execution_count": 191,
   "metadata": {},
   "outputs": [],
   "source": [
    "X_train = train.loc[:,'X00':\"X40\"]"
   ]
  },
  {
   "cell_type": "code",
   "execution_count": 193,
   "metadata": {},
   "outputs": [
    {
     "data": {
      "text/plain": [
       "(4752, 40)"
      ]
     },
     "execution_count": 193,
     "metadata": {},
     "output_type": "execute_result"
    }
   ],
   "source": [
    "X_train.shape"
   ]
  },
  {
   "cell_type": "code",
   "execution_count": 194,
   "metadata": {},
   "outputs": [],
   "source": [
    "def create_dataset(X, y, time_steps=1):\n",
    "    Xs, ys = [], []\n",
    "    for i in range(len(X) - time_steps):\n",
    "        v = X.iloc[i:(i + time_steps)].values\n",
    "        Xs.append(v)\n",
    "        ys.append(y.iloc[i + time_steps])\n",
    "    return np.array(Xs), np.array(ys)"
   ]
  },
  {
   "cell_type": "code",
   "execution_count": 195,
   "metadata": {},
   "outputs": [],
   "source": [
    "Y_train = train.iloc[:,-1]"
   ]
  },
  {
   "cell_type": "code",
   "execution_count": 198,
   "metadata": {},
   "outputs": [],
   "source": [
    "Y_train = Y_train.fillna(0)"
   ]
  },
  {
   "cell_type": "code",
   "execution_count": 201,
   "metadata": {},
   "outputs": [],
   "source": [
    "train_x, train_y = create_dataset(X_train,Y_train,12)"
   ]
  },
  {
   "cell_type": "code",
   "execution_count": 202,
   "metadata": {},
   "outputs": [
    {
     "data": {
      "text/plain": [
       "(4740, 12, 40)"
      ]
     },
     "execution_count": 202,
     "metadata": {},
     "output_type": "execute_result"
    }
   ],
   "source": [
    "train_x.shape"
   ]
  },
  {
   "cell_type": "code",
   "execution_count": 203,
   "metadata": {},
   "outputs": [
    {
     "data": {
      "text/plain": [
       "(4740,)"
      ]
     },
     "execution_count": 203,
     "metadata": {},
     "output_type": "execute_result"
    }
   ],
   "source": [
    "train_y.shape"
   ]
  },
  {
   "cell_type": "code",
   "execution_count": 204,
   "metadata": {},
   "outputs": [],
   "source": [
    "model = tf.keras.Sequential()\n",
    "model.add(tf.keras.layers.LSTM(128,input_shape = (12,40)))\n",
    "model.add(tf.keras.layers.Dense(128,activation = 'relu'))\n",
    "model.add(tf.keras.layers.Dense(64,activation = 'relu'))\n",
    "model.add(tf.keras.layers.Dense(1))"
   ]
  },
  {
   "cell_type": "code",
   "execution_count": 205,
   "metadata": {},
   "outputs": [],
   "source": [
    "model.compile(loss = 'mean_squared_error',optimizer='adam')"
   ]
  },
  {
   "cell_type": "code",
   "execution_count": 218,
   "metadata": {
    "scrolled": false
   },
   "outputs": [
    {
     "name": "stdout",
     "output_type": "stream",
     "text": [
      "Train on 4740 samples\n",
      "Epoch 1/30\n",
      "4740/4740 [==============================] - ETA: 1s - loss: 60.56 - ETA: 1s - loss: 62.53 - ETA: 1s - loss: 61.56 - ETA: 1s - loss: 62.71 - ETA: 0s - loss: 64.61 - ETA: 0s - loss: 64.70 - ETA: 0s - loss: 62.89 - ETA: 0s - loss: 62.86 - ETA: 0s - loss: 63.58 - 2s 396us/sample - loss: 62.5909\n",
      "Epoch 2/30\n",
      "4740/4740 [==============================] - ETA: 1s - loss: 59.53 - ETA: 1s - loss: 57.33 - ETA: 1s - loss: 58.38 - ETA: 1s - loss: 57.00 - ETA: 0s - loss: 63.20 - ETA: 0s - loss: 59.50 - ETA: 0s - loss: 60.88 - ETA: 0s - loss: 63.53 - ETA: 0s - loss: 63.21 - 2s 377us/sample - loss: 62.5982\n",
      "Epoch 3/30\n",
      "4740/4740 [==============================] - ETA: 1s - loss: 51.48 - ETA: 1s - loss: 60.84 - ETA: 1s - loss: 62.08 - ETA: 1s - loss: 63.65 - ETA: 0s - loss: 62.47 - ETA: 0s - loss: 62.39 - ETA: 0s - loss: 61.43 - ETA: 0s - loss: 64.15 - ETA: 0s - loss: 63.69 - 2s 373us/sample - loss: 62.5947\n",
      "Epoch 4/30\n",
      "4740/4740 [==============================] - ETA: 1s - loss: 63.48 - ETA: 1s - loss: 59.14 - ETA: 1s - loss: 63.23 - ETA: 1s - loss: 63.02 - ETA: 0s - loss: 60.65 - ETA: 0s - loss: 60.82 - ETA: 0s - loss: 62.46 - ETA: 0s - loss: 63.15 - ETA: 0s - loss: 62.66 - 2s 392us/sample - loss: 62.5909\n",
      "Epoch 5/30\n",
      "4740/4740 [==============================] - ETA: 1s - loss: 59.70 - ETA: 1s - loss: 59.60 - ETA: 1s - loss: 56.44 - ETA: 1s - loss: 59.64 - ETA: 0s - loss: 61.38 - ETA: 0s - loss: 61.86 - ETA: 0s - loss: 63.45 - ETA: 0s - loss: 62.14 - ETA: 0s - loss: 63.98 - 2s 380us/sample - loss: 62.5916\n",
      "Epoch 6/30\n",
      "4740/4740 [==============================] - ETA: 1s - loss: 71.55 - ETA: 1s - loss: 62.13 - ETA: 1s - loss: 64.30 - ETA: 1s - loss: 60.48 - ETA: 0s - loss: 58.64 - ETA: 0s - loss: 60.04 - ETA: 0s - loss: 61.02 - ETA: 0s - loss: 62.60 - ETA: 0s - loss: 61.75 - 2s 402us/sample - loss: 62.5974\n",
      "Epoch 7/30\n",
      "4740/4740 [==============================] - ETA: 1s - loss: 46.67 - ETA: 1s - loss: 47.27 - ETA: 1s - loss: 60.28 - ETA: 1s - loss: 57.64 - ETA: 0s - loss: 62.33 - ETA: 0s - loss: 60.91 - ETA: 0s - loss: 62.51 - ETA: 0s - loss: 63.39 - ETA: 0s - loss: 63.61 - 2s 448us/sample - loss: 62.5924\n",
      "Epoch 8/30\n",
      "4740/4740 [==============================] - ETA: 1s - loss: 67.00 - ETA: 1s - loss: 63.66 - ETA: 1s - loss: 60.17 - ETA: 1s - loss: 62.91 - ETA: 0s - loss: 60.22 - ETA: 0s - loss: 60.05 - ETA: 0s - loss: 61.40 - ETA: 0s - loss: 63.52 - ETA: 0s - loss: 63.27 - 2s 469us/sample - loss: 62.5928\n",
      "Epoch 9/30\n",
      "4740/4740 [==============================] - ETA: 2s - loss: 70.93 - ETA: 1s - loss: 65.22 - ETA: 1s - loss: 67.96 - ETA: 1s - loss: 62.71 - ETA: 0s - loss: 60.85 - ETA: 0s - loss: 61.87 - ETA: 0s - loss: 63.86 - ETA: 0s - loss: 63.22 - ETA: 0s - loss: 63.57 - 2s 399us/sample - loss: 62.5899\n",
      "Epoch 10/30\n",
      "4740/4740 [==============================] - ETA: 1s - loss: 68.97 - ETA: 1s - loss: 68.29 - ETA: 1s - loss: 66.27 - ETA: 1s - loss: 67.75 - ETA: 0s - loss: 69.94 - ETA: 0s - loss: 66.60 - ETA: 0s - loss: 64.56 - ETA: 0s - loss: 63.76 - ETA: 0s - loss: 63.41 - 2s 476us/sample - loss: 62.5914\n",
      "Epoch 11/30\n",
      "4740/4740 [==============================] - ETA: 2s - loss: 49.13 - ETA: 1s - loss: 57.86 - ETA: 1s - loss: 58.35 - ETA: 1s - loss: 60.85 - ETA: 1s - loss: 60.80 - ETA: 0s - loss: 65.55 - ETA: 0s - loss: 64.28 - ETA: 0s - loss: 62.89 - ETA: 0s - loss: 62.33 - 2s 499us/sample - loss: 62.5982\n",
      "Epoch 12/30\n",
      "4740/4740 [==============================] - ETA: 1s - loss: 76.19 - ETA: 1s - loss: 68.31 - ETA: 1s - loss: 61.09 - ETA: 1s - loss: 56.90 - ETA: 0s - loss: 59.54 - ETA: 0s - loss: 62.45 - ETA: 0s - loss: 62.37 - ETA: 0s - loss: 61.49 - ETA: 0s - loss: 63.04 - 2s 420us/sample - loss: 62.5963\n",
      "Epoch 13/30\n",
      "4740/4740 [==============================] - ETA: 1s - loss: 58.25 - ETA: 1s - loss: 67.61 - ETA: 1s - loss: 63.30 - ETA: 1s - loss: 62.42 - ETA: 0s - loss: 61.13 - ETA: 0s - loss: 61.80 - ETA: 0s - loss: 61.60 - ETA: 0s - loss: 61.67 - ETA: 0s - loss: 62.01 - 2s 394us/sample - loss: 62.5889\n",
      "Epoch 14/30\n",
      "4740/4740 [==============================] - ETA: 1s - loss: 60.69 - ETA: 1s - loss: 51.11 - ETA: 1s - loss: 54.71 - ETA: 1s - loss: 57.20 - ETA: 0s - loss: 62.66 - ETA: 0s - loss: 61.01 - ETA: 0s - loss: 61.87 - ETA: 0s - loss: 61.70 - ETA: 0s - loss: 63.08 - 2s 447us/sample - loss: 62.5935\n",
      "Epoch 15/30\n",
      "4740/4740 [==============================] - ETA: 2s - loss: 58.46 - ETA: 2s - loss: 48.13 - ETA: 1s - loss: 59.25 - ETA: 1s - loss: 57.92 - ETA: 1s - loss: 61.07 - ETA: 0s - loss: 61.30 - ETA: 0s - loss: 63.83 - ETA: 0s - loss: 64.26 - ETA: 0s - loss: 62.53 - 2s 459us/sample - loss: 62.5912\n",
      "Epoch 16/30\n",
      "4740/4740 [==============================] - ETA: 1s - loss: 54.39 - ETA: 1s - loss: 54.34 - ETA: 1s - loss: 58.88 - ETA: 1s - loss: 58.94 - ETA: 0s - loss: 61.45 - ETA: 0s - loss: 62.77 - ETA: 0s - loss: 64.42 - ETA: 0s - loss: 62.59 - ETA: 0s - loss: 61.39 - 2s 447us/sample - loss: 62.5928\n",
      "Epoch 17/30\n",
      "4740/4740 [==============================] - ETA: 1s - loss: 59.86 - ETA: 1s - loss: 59.83 - ETA: 1s - loss: 59.16 - ETA: 1s - loss: 62.10 - ETA: 0s - loss: 60.80 - ETA: 0s - loss: 61.56 - ETA: 0s - loss: 60.31 - ETA: 0s - loss: 61.92 - ETA: 0s - loss: 61.15 - 2s 417us/sample - loss: 62.5908\n",
      "Epoch 18/30\n",
      "4740/4740 [==============================] - ETA: 1s - loss: 47.84 - ETA: 1s - loss: 55.39 - ETA: 1s - loss: 57.23 - ETA: 1s - loss: 62.66 - ETA: 0s - loss: 62.77 - ETA: 0s - loss: 62.77 - ETA: 0s - loss: 62.28 - ETA: 0s - loss: 60.81 - ETA: 0s - loss: 62.30 - 2s 443us/sample - loss: 62.5900\n",
      "Epoch 19/30\n",
      "4740/4740 [==============================] - ETA: 1s - loss: 59.85 - ETA: 1s - loss: 64.47 - ETA: 1s - loss: 61.91 - ETA: 1s - loss: 60.99 - ETA: 1s - loss: 59.84 - ETA: 0s - loss: 59.01 - ETA: 0s - loss: 61.08 - ETA: 0s - loss: 61.79 - ETA: 0s - loss: 63.04 - 2s 444us/sample - loss: 62.5935\n",
      "Epoch 20/30\n",
      "4740/4740 [==============================] - ETA: 1s - loss: 48.90 - ETA: 1s - loss: 56.33 - ETA: 1s - loss: 53.78 - ETA: 1s - loss: 56.14 - ETA: 0s - loss: 60.03 - ETA: 0s - loss: 60.40 - ETA: 0s - loss: 61.15 - ETA: 0s - loss: 61.68 - ETA: 0s - loss: 62.79 - 2s 432us/sample - loss: 62.5984\n",
      "Epoch 21/30\n",
      "4740/4740 [==============================] - ETA: 1s - loss: 71.20 - ETA: 1s - loss: 64.28 - ETA: 1s - loss: 65.63 - ETA: 1s - loss: 63.96 - ETA: 0s - loss: 64.74 - ETA: 0s - loss: 63.13 - ETA: 0s - loss: 63.05 - ETA: 0s - loss: 63.04 - ETA: 0s - loss: 63.78 - 2s 413us/sample - loss: 62.5929\n",
      "Epoch 22/30\n",
      "4740/4740 [==============================] - ETA: 1s - loss: 63.10 - ETA: 1s - loss: 53.52 - ETA: 1s - loss: 56.95 - ETA: 1s - loss: 58.31 - ETA: 0s - loss: 61.15 - ETA: 0s - loss: 58.98 - ETA: 0s - loss: 58.67 - ETA: 0s - loss: 62.13 - ETA: 0s - loss: 61.97 - 2s 430us/sample - loss: 62.6033\n",
      "Epoch 23/30\n",
      "4740/4740 [==============================] - ETA: 1s - loss: 57.75 - ETA: 1s - loss: 55.59 - ETA: 1s - loss: 58.39 - ETA: 1s - loss: 61.45 - ETA: 0s - loss: 60.55 - ETA: 0s - loss: 61.24 - ETA: 0s - loss: 62.59 - ETA: 0s - loss: 62.60 - ETA: 0s - loss: 63.03 - 2s 420us/sample - loss: 62.5880\n",
      "Epoch 24/30\n",
      "4740/4740 [==============================] - ETA: 1s - loss: 59.64 - ETA: 1s - loss: 57.14 - ETA: 1s - loss: 60.67 - ETA: 1s - loss: 58.74 - ETA: 0s - loss: 61.72 - ETA: 0s - loss: 60.94 - ETA: 0s - loss: 61.91 - ETA: 0s - loss: 62.18 - ETA: 0s - loss: 63.62 - 2s 427us/sample - loss: 62.5890\n",
      "Epoch 25/30\n",
      "4740/4740 [==============================] - ETA: 1s - loss: 72.56 - ETA: 1s - loss: 66.25 - ETA: 1s - loss: 65.75 - ETA: 1s - loss: 61.38 - ETA: 1s - loss: 61.98 - ETA: 0s - loss: 61.02 - ETA: 0s - loss: 61.58 - ETA: 0s - loss: 61.13 - ETA: 0s - loss: 61.33 - 2s 436us/sample - loss: 62.5939\n",
      "Epoch 26/30\n",
      "4740/4740 [==============================] - ETA: 1s - loss: 55.91 - ETA: 1s - loss: 65.45 - ETA: 1s - loss: 60.38 - ETA: 1s - loss: 59.87 - ETA: 0s - loss: 60.22 - ETA: 0s - loss: 59.51 - ETA: 0s - loss: 61.03 - ETA: 0s - loss: 60.68 - ETA: 0s - loss: 61.92 - 2s 403us/sample - loss: 62.5866\n",
      "Epoch 27/30\n"
     ]
    },
    {
     "name": "stdout",
     "output_type": "stream",
     "text": [
      "4740/4740 [==============================] - ETA: 1s - loss: 54.28 - ETA: 1s - loss: 58.64 - ETA: 1s - loss: 61.50 - ETA: 1s - loss: 64.04 - ETA: 0s - loss: 64.06 - ETA: 0s - loss: 65.49 - ETA: 0s - loss: 66.05 - ETA: 0s - loss: 63.02 - ETA: 0s - loss: 63.06 - 2s 412us/sample - loss: 62.5984\n",
      "Epoch 28/30\n",
      "4740/4740 [==============================] - ETA: 1s - loss: 68.81 - ETA: 1s - loss: 70.41 - ETA: 1s - loss: 66.31 - ETA: 1s - loss: 66.77 - ETA: 0s - loss: 65.57 - ETA: 0s - loss: 64.32 - ETA: 0s - loss: 64.90 - ETA: 0s - loss: 64.35 - ETA: 0s - loss: 62.92 - 2s 383us/sample - loss: 62.5858\n",
      "Epoch 29/30\n",
      "4740/4740 [==============================] - ETA: 1s - loss: 73.22 - ETA: 1s - loss: 70.72 - ETA: 1s - loss: 69.14 - ETA: 1s - loss: 71.94 - ETA: 0s - loss: 67.19 - ETA: 0s - loss: 65.47 - ETA: 0s - loss: 64.93 - ETA: 0s - loss: 62.32 - ETA: 0s - loss: 62.70 - 2s 406us/sample - loss: 62.5864\n",
      "Epoch 30/30\n",
      "4740/4740 [==============================] - ETA: 1s - loss: 66.89 - ETA: 1s - loss: 72.30 - ETA: 1s - loss: 68.66 - ETA: 1s - loss: 63.52 - ETA: 0s - loss: 61.47 - ETA: 0s - loss: 63.82 - ETA: 0s - loss: 62.19 - ETA: 0s - loss: 62.31 - ETA: 0s - loss: 62.22 - 2s 411us/sample - loss: 62.5899\n"
     ]
    }
   ],
   "source": [
    "Model_test = model.fit(train_x,train_y,epochs = 30,batch_size =500,verbose = 1)"
   ]
  },
  {
   "cell_type": "code",
   "execution_count": 217,
   "metadata": {},
   "outputs": [
    {
     "data": {
      "text/plain": [
       "[<matplotlib.lines.Line2D at 0xa0701e1408>]"
      ]
     },
     "execution_count": 217,
     "metadata": {},
     "output_type": "execute_result"
    },
    {
     "data": {
      "image/png": "[encoded data removed]",
      "text/plain": [
       "<Figure size 432x288 with 1 Axes>"
      ]
     },
     "metadata": {
      "needs_background": "light"
     },
     "output_type": "display_data"
    }
   ],
   "source": [
    "# batchsize = 4740\n",
    "plt.plot(Model_test.history['loss'])"
   ]
  },
  {
   "cell_type": "code",
   "execution_count": 219,
   "metadata": {},
   "outputs": [
    {
     "data": {
      "text/plain": [
       "[<matplotlib.lines.Line2D at 0xa000363188>]"
      ]
     },
     "execution_count": 219,
     "metadata": {},
     "output_type": "execute_result"
    },
    {
     "data": {
      "image/png": "[encoded data removed]",
      "text/plain": [
       "<Figure size 432x288 with 1 Axes>"
      ]
     },
     "metadata": {
      "needs_background": "light"
     },
     "output_type": "display_data"
    }
   ],
   "source": [
    "# batch_size = 500\n",
    "plt.plot(Model_test.history['loss'])"
   ]
  },
  {
   "cell_type": "code",
   "execution_count": null,
   "metadata": {},
   "outputs": [],
   "source": []
  }
 ],
 "metadata": {
  "kernelspec": {
   "display_name": "Python 3",
   "language": "python",
   "name": "python3"
  },
  "language_info": {
   "codemirror_mode": {
    "name": "ipython",
    "version": 3
   },
   "file_extension": ".py",
   "mimetype": "text/x-python",
   "name": "python",
   "nbconvert_exporter": "python",
   "pygments_lexer": "ipython3",
   "version": "3.7.4"
  }
 },
 "nbformat": 4,
 "nbformat_minor": 2
}
